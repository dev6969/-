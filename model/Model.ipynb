{
 "cells": [
  {
   "cell_type": "code",
   "execution_count": 1,
   "metadata": {},
   "outputs": [
    {
     "name": "stderr",
     "output_type": "stream",
     "text": [
      "/home/yug7864/anaconda3/lib/python3.6/site-packages/h5py/__init__.py:36: FutureWarning: Conversion of the second argument of issubdtype from `float` to `np.floating` is deprecated. In future, it will be treated as `np.float64 == np.dtype(float).type`.\n",
      "  from ._conv import register_converters as _register_converters\n"
     ]
    }
   ],
   "source": [
    "import tensorflow as tf\n",
    "from tensorflow.python.layers import base\n",
    "from tensorflow.layers import dense,conv2d,batch_normalization,conv2d_transpose\n",
    "import numpy as np\n",
    "import timeit as T"
   ]
  },
  {
   "cell_type": "code",
   "execution_count": 2,
   "metadata": {},
   "outputs": [],
   "source": [
    "class UNET():        \n",
    "    # crop_acd_concat FROM_TOP_LEFT_CROP\n",
    "    def crop_and_concat(self,x1,x2):\n",
    "        with tf.name_scope(\"crop_and_concat\"):\n",
    "            x1_shape = tf.shape(x1)\n",
    "            x2_shape = tf.shape(x2)\n",
    "            x_crop = tf.slice(x1,[0,0,0,0],x2_shape)\n",
    "            return tf.concat([x_crop,x2],-1)\n",
    "\n",
    "    \n",
    "    \n",
    "    def conv_net(self,inputs,filters,\n",
    "                 kernel_size=[3,3],strides=[1,1],\n",
    "                 activation=tf.nn.relu,name=None):\n",
    "        \n",
    "        conv2 = conv2d(inputs, filters=filters, kernel_size=kernel_size, strides=strides, activation=activation, name=name)\n",
    "#         tensor =  batch_normalization(tensor)\n",
    "        if name !=None : print(\"{}:{}\".format(name,conv2.shape))\n",
    "        return conv2 \n",
    "        \n",
    "    def deconv_net(self,input1,input2,filters,\n",
    "                 kernel_size=[4,4],strides=[2,2],\n",
    "                 activation=tf.nn.relu,name=None):\n",
    "        \n",
    "        concat = self.crop_and_concat(input1,input2)        \n",
    "        deconv2 = conv2d_transpose(inputs=concat, filters=filters, kernel_size=kernel_size, strides=strides, activation=activation ,data_format=\"channels_last\", name=name)\n",
    "#         tensor = batch_normalization(tensor)\n",
    "        if name !=None : print(\"{}:{}\".format(name,deconv2.shape))\n",
    "        return deconv2\n",
    "    \n",
    "    def loss(self,pred):        \n",
    "        learning_rate=0.0001        \n",
    "#         loss = tf.metrics.mean_absolute_error(labels=self.target,predictions=pred)\n",
    "        loss = tf.cast(tf.equal(pred,self.target),tf.float32)\n",
    "        ops = tf.train.AdamOptimizer(learning_rate)\n",
    "        train_op = ops.minimize(loss)        \n",
    "        return loss, train_op\n",
    "    \n",
    "        \n",
    "    def build_model(self):        \n",
    "        tensor = self.inputs\n",
    "        print(\"==========Encoder Start=============\")    \n",
    "        start = T.default_timer()\n",
    "        conv0 = self.conv_net(tensor, filters=32) \n",
    "        conv1 = self.conv_net(conv0, filters=64,kernel_size=[4,4],strides=[2,2]) \n",
    "        conv2 = self.conv_net(conv1, filters=64) \n",
    "        conv3 = self.conv_net(conv2, filters=128,kernel_size=[4,4],strides=[2,2])\n",
    "        conv4 = self.conv_net(conv3, filters=128) \n",
    "        conv5 = self.conv_net(conv4, filters=256,kernel_size=[4,4],strides=[2,2])\n",
    "        conv6 = self.conv_net(conv5, filters=256)\n",
    "        conv7 = self.conv_net(conv6, filters=512,kernel_size=[4,4],strides=[2,2])\n",
    "        conv8 = self.conv_net(conv7, filters=512) \n",
    "        print(\"[Encoder build_time : {}ms]\".format(T.default_timer() - start))  \n",
    "        \n",
    "        print(\"==========Decoder Start=============\")      \n",
    "        #512 256 256 128 128 64 64 32 3\n",
    "        deconv8 = self.deconv_net(conv7,conv8,filters=512)\n",
    "        deconv7 = self.conv_net(deconv8,256)\n",
    "        deconv6 = self.deconv_net(conv6,deconv7,filters=256)\n",
    "        deconv5 = self.conv_net(deconv6,128)\n",
    "        deconv4 = self.deconv_net(conv4,deconv5,filters=128)\n",
    "        deconv3 = self.conv_net(deconv4,64)\n",
    "        deconv2 = self.deconv_net(conv2,deconv3,filters=64)\n",
    "        deconv1 = self.conv_net(deconv2,32)\n",
    "        \n",
    "        deconv0 = self.crop_and_concat(conv0,deconv1)\n",
    "        deconv0 = conv2d(deconv0,3,kernel_size=[3,3],strides=[1,1],activation=None)                        \n",
    "        print(\"[Encoder build_time : {}ms]\".format(T.default_timer() - start))\n",
    "        \n",
    "        pre = tf.cast(deconv0,tf.uint8)\n",
    "        print(\"{}\".format(pre.shape))        \n",
    "        \n",
    "        return pre , deconv0\n",
    "    \n",
    "    def __init__(self,sess,inputs,target):\n",
    "        self.sess = sess\n",
    "        self.inputs = inputs\n",
    "        self.target = target"
   ]
  },
  {
   "cell_type": "code",
   "execution_count": 3,
   "metadata": {
    "scrolled": false
   },
   "outputs": [
    {
     "name": "stdout",
     "output_type": "stream",
     "text": [
      "==========Encoder Start=============\n",
      "[Encoder build_time : 0.12822709100146312ms]\n",
      "==========Decoder Start=============\n",
      "[Encoder build_time : 0.31326098799763713ms]\n",
      "(?, 414, 414, 3)\n"
     ]
    },
    {
     "ename": "AttributeError",
     "evalue": "'tuple' object has no attribute 'dtype'",
     "output_type": "error",
     "traceback": [
      "\u001b[0;31m---------------------------------------------------------------------------\u001b[0m",
      "\u001b[0;31mAttributeError\u001b[0m                            Traceback (most recent call last)",
      "\u001b[0;32m<ipython-input-3-06f639cd01f0>\u001b[0m in \u001b[0;36m<module>\u001b[0;34m()\u001b[0m\n\u001b[1;32m     10\u001b[0m \u001b[0;34m\u001b[0m\u001b[0m\n\u001b[1;32m     11\u001b[0m \u001b[0mloss\u001b[0m \u001b[0;34m=\u001b[0m \u001b[0mtf\u001b[0m\u001b[0;34m.\u001b[0m\u001b[0mmetrics\u001b[0m\u001b[0;34m.\u001b[0m\u001b[0mmean_squared_error\u001b[0m\u001b[0;34m(\u001b[0m\u001b[0mlabels\u001b[0m\u001b[0;34m=\u001b[0m\u001b[0mtarget\u001b[0m\u001b[0;34m,\u001b[0m\u001b[0mpredictions\u001b[0m\u001b[0;34m=\u001b[0m\u001b[0mlogits\u001b[0m\u001b[0;34m)\u001b[0m\u001b[0;34m\u001b[0m\u001b[0m\n\u001b[0;32m---> 12\u001b[0;31m \u001b[0mtarin_op\u001b[0m \u001b[0;34m=\u001b[0m \u001b[0mtf\u001b[0m\u001b[0;34m.\u001b[0m\u001b[0mtrain\u001b[0m\u001b[0;34m.\u001b[0m\u001b[0mAdamOptimizer\u001b[0m\u001b[0;34m(\u001b[0m\u001b[0;36m0.0001\u001b[0m\u001b[0;34m)\u001b[0m\u001b[0;34m.\u001b[0m\u001b[0mminimize\u001b[0m\u001b[0;34m(\u001b[0m\u001b[0mloss\u001b[0m\u001b[0;34m)\u001b[0m\u001b[0;34m\u001b[0m\u001b[0m\n\u001b[0m\u001b[1;32m     13\u001b[0m \u001b[0;34m\u001b[0m\u001b[0m\n\u001b[1;32m     14\u001b[0m \u001b[0mprint\u001b[0m\u001b[0;34m(\u001b[0m\u001b[0mpred\u001b[0m\u001b[0;34m)\u001b[0m\u001b[0;34m\u001b[0m\u001b[0m\n",
      "\u001b[0;32m~/anaconda3/lib/python3.6/site-packages/tensorflow/python/training/optimizer.py\u001b[0m in \u001b[0;36mminimize\u001b[0;34m(self, loss, global_step, var_list, gate_gradients, aggregation_method, colocate_gradients_with_ops, name, grad_loss)\u001b[0m\n\u001b[1;32m    398\u001b[0m         \u001b[0maggregation_method\u001b[0m\u001b[0;34m=\u001b[0m\u001b[0maggregation_method\u001b[0m\u001b[0;34m,\u001b[0m\u001b[0;34m\u001b[0m\u001b[0m\n\u001b[1;32m    399\u001b[0m         \u001b[0mcolocate_gradients_with_ops\u001b[0m\u001b[0;34m=\u001b[0m\u001b[0mcolocate_gradients_with_ops\u001b[0m\u001b[0;34m,\u001b[0m\u001b[0;34m\u001b[0m\u001b[0m\n\u001b[0;32m--> 400\u001b[0;31m         grad_loss=grad_loss)\n\u001b[0m\u001b[1;32m    401\u001b[0m \u001b[0;34m\u001b[0m\u001b[0m\n\u001b[1;32m    402\u001b[0m     \u001b[0mvars_with_grad\u001b[0m \u001b[0;34m=\u001b[0m \u001b[0;34m[\u001b[0m\u001b[0mv\u001b[0m \u001b[0;32mfor\u001b[0m \u001b[0mg\u001b[0m\u001b[0;34m,\u001b[0m \u001b[0mv\u001b[0m \u001b[0;32min\u001b[0m \u001b[0mgrads_and_vars\u001b[0m \u001b[0;32mif\u001b[0m \u001b[0mg\u001b[0m \u001b[0;32mis\u001b[0m \u001b[0;32mnot\u001b[0m \u001b[0;32mNone\u001b[0m\u001b[0;34m]\u001b[0m\u001b[0;34m\u001b[0m\u001b[0m\n",
      "\u001b[0;32m~/anaconda3/lib/python3.6/site-packages/tensorflow/python/training/optimizer.py\u001b[0m in \u001b[0;36mcompute_gradients\u001b[0;34m(self, loss, var_list, gate_gradients, aggregation_method, colocate_gradients_with_ops, grad_loss)\u001b[0m\n\u001b[1;32m    492\u001b[0m                        \u001b[0;34m\"Optimizer.GATE_OP, Optimizer.GATE_GRAPH.  Not %s\"\u001b[0m \u001b[0;34m%\u001b[0m\u001b[0;34m\u001b[0m\u001b[0m\n\u001b[1;32m    493\u001b[0m                        gate_gradients)\n\u001b[0;32m--> 494\u001b[0;31m     \u001b[0mself\u001b[0m\u001b[0;34m.\u001b[0m\u001b[0m_assert_valid_dtypes\u001b[0m\u001b[0;34m(\u001b[0m\u001b[0;34m[\u001b[0m\u001b[0mloss\u001b[0m\u001b[0;34m]\u001b[0m\u001b[0;34m)\u001b[0m\u001b[0;34m\u001b[0m\u001b[0m\n\u001b[0m\u001b[1;32m    495\u001b[0m     \u001b[0;32mif\u001b[0m \u001b[0mgrad_loss\u001b[0m \u001b[0;32mis\u001b[0m \u001b[0;32mnot\u001b[0m \u001b[0;32mNone\u001b[0m\u001b[0;34m:\u001b[0m\u001b[0;34m\u001b[0m\u001b[0m\n\u001b[1;32m    496\u001b[0m       \u001b[0mself\u001b[0m\u001b[0;34m.\u001b[0m\u001b[0m_assert_valid_dtypes\u001b[0m\u001b[0;34m(\u001b[0m\u001b[0;34m[\u001b[0m\u001b[0mgrad_loss\u001b[0m\u001b[0;34m]\u001b[0m\u001b[0;34m)\u001b[0m\u001b[0;34m\u001b[0m\u001b[0m\n",
      "\u001b[0;32m~/anaconda3/lib/python3.6/site-packages/tensorflow/python/training/optimizer.py\u001b[0m in \u001b[0;36m_assert_valid_dtypes\u001b[0;34m(self, tensors)\u001b[0m\n\u001b[1;32m    870\u001b[0m     \u001b[0mvalid_dtypes\u001b[0m \u001b[0;34m=\u001b[0m \u001b[0mself\u001b[0m\u001b[0;34m.\u001b[0m\u001b[0m_valid_dtypes\u001b[0m\u001b[0;34m(\u001b[0m\u001b[0;34m)\u001b[0m\u001b[0;34m\u001b[0m\u001b[0m\n\u001b[1;32m    871\u001b[0m     \u001b[0;32mfor\u001b[0m \u001b[0mt\u001b[0m \u001b[0;32min\u001b[0m \u001b[0mtensors\u001b[0m\u001b[0;34m:\u001b[0m\u001b[0;34m\u001b[0m\u001b[0m\n\u001b[0;32m--> 872\u001b[0;31m       \u001b[0mdtype\u001b[0m \u001b[0;34m=\u001b[0m \u001b[0mt\u001b[0m\u001b[0;34m.\u001b[0m\u001b[0mdtype\u001b[0m\u001b[0;34m.\u001b[0m\u001b[0mbase_dtype\u001b[0m\u001b[0;34m\u001b[0m\u001b[0m\n\u001b[0m\u001b[1;32m    873\u001b[0m       \u001b[0;32mif\u001b[0m \u001b[0mdtype\u001b[0m \u001b[0;32mnot\u001b[0m \u001b[0;32min\u001b[0m \u001b[0mvalid_dtypes\u001b[0m\u001b[0;34m:\u001b[0m\u001b[0;34m\u001b[0m\u001b[0m\n\u001b[1;32m    874\u001b[0m         raise ValueError(\n",
      "\u001b[0;31mAttributeError\u001b[0m: 'tuple' object has no attribute 'dtype'"
     ]
    }
   ],
   "source": [
    "inputs = np.arange(0, 786432,dtype=np.uint8).reshape(1,512,512,3)\n",
    "\n",
    "inputs = tf.placeholder(shape = [None,512,512,3], dtype=tf.float32)\n",
    "target = tf.placeholder(shape = [None,414,414,3], dtype=tf.float32)\n",
    "\n",
    "init = tf.global_variables_initializer()\n",
    "sess = tf.Session()\n",
    "unet = UNET(sess,inputs,target)\n",
    "(pred ,logits) = unet.build_model()\n",
    "\n",
    "loss = tf.metrics.mean_squared_error(labels=target,predictions=logits)\n",
    "tarin_op = tf.train.AdamOptimizer(0.0001).minimize(loss)\n",
    "\n",
    "print(pred)\n",
    "print(avr)"
   ]
  },
  {
   "cell_type": "code",
   "execution_count": null,
   "metadata": {},
   "outputs": [],
   "source": []
  }
 ],
 "metadata": {
  "kernelspec": {
   "display_name": "Python 3",
   "language": "python",
   "name": "python3"
  },
  "language_info": {
   "codemirror_mode": {
    "name": "ipython",
    "version": 3
   },
   "file_extension": ".py",
   "mimetype": "text/x-python",
   "name": "python",
   "nbconvert_exporter": "python",
   "pygments_lexer": "ipython3",
   "version": "3.6.5"
  }
 },
 "nbformat": 4,
 "nbformat_minor": 2
}
